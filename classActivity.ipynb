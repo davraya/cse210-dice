{
  "cells": [
    {
      "cell_type": "markdown",
      "metadata": {
        "id": "nXSvS7Iuo-9v"
      },
      "source": [
        "# Class Activity - Relational Databases"
      ]
    },
    {
      "cell_type": "markdown",
      "metadata": {
        "id": "ci5IX6Pzo-9y"
      },
      "source": [
        "Represent these tables in Python as a list of 4-tuples.\n",
        "\n",
        "Courses:\n",
        "\n",
        "|Course Number|Course Title|Instructor|Semester|\n",
        "|---|---|---|---|\n",
        "|CSE 110|Programming Building Blocks|Comeau|Spring|\n",
        "|CSE 110|Programming Building Blocks|Phillips|Fall|\n",
        "|CSE 111|Programming with Functions|Birch|Winter|\n",
        "|CSE 111|Programming with Functions|Burton|Fall|\n",
        "|CSE 111|Programming with Functions|Burton|Spring|\n",
        "|CSE 170|Technical Teamwork|Hansen|Fall|\n",
        "|CSE 180|Algorithmic Thinking|Kay|Spring|\n",
        "|CSE 180|Algorithmic Thinking|Kay|Winter|\n",
        "|CSE 280|Discrete Mathematics|Phillips|Spring|\n",
        "|CSE 280|Discrete Mathematics|Barney|Fall|\n",
        "|CSE 280|Discrete Mathematics|Phillips|Winter|\n",
        "\n",
        "Students:\n",
        "\n",
        "|Student Name|Course Number|Semester|\n",
        "|---|---|---|\n",
        "|Bob|CSE 110|Spring|\n",
        "|Bob|CSE 111|Fall|\n",
        "|Sue|CSE 111|Fall|\n",
        "|Sue|CSE 180|Winter|\n",
        "|Bill|CSE 280|Spring|\n",
        "|Bill|CSE 170|Fall|\n",
        "\n",
        "\n",
        "Then use Python to answer the following questions. (Hint: Use list comprehensions)\n",
        "\n",
        "1. Find all rows where the class number is CSE 280\n",
        "\n",
        "2. Find all classes taught by Phillips\n",
        "\n",
        "3. List all class names for classes taught in Spring\n",
        "\n",
        "4. List all class numbers and instructors for classes taught in Fall\n",
        "\n",
        "5. Find the instructor name for Sue's CSE 111 class\n",
        "\n",
        "\n"
      ]
    },
    {
      "cell_type": "code",
      "execution_count": null,
      "metadata": {
        "id": "ZBhJfgzco-9z"
      },
      "outputs": [],
      "source": [
        "# Represent the courses table as a list of tuples\n",
        "courses = [(\"CSE 110\", \"Programming Building Blocks\", \"Comeau\", \"Spring\"),\n",
        "           (\"CSE 110\", \"Programming Building Blocks\", \"Phillips\", \"Fall\"),\n",
        "           (\"CSE 111\", \"Programming with Functions\", \"Birch\", \"Winter\"),\n",
        "           (\"CSE 111\", \"Programming with Functions\", \"Burton\", \"Fall\"),\n",
        "           (\"CSE 111\", \"Programming with Functions\", \"Burton\", \"Spring\"),\n",
        "           (\"CSE 170\", \"Technical Teamwork\", \"Hansen\", \"Fall\"),\n",
        "           (\"CSE 180\", \"Algorithmic Thinking\", \"Kay\", \"Spring\"),\n",
        "           (\"CSE 180\", \"Algorithmic Thinking\", \"Kay\", \"Winter\"),\n",
        "           (\"CSE 280\", \"Discrete Mathematics\", \"Phillips\", \"Spring\"),\n",
        "           (\"CSE 280\", \"Discrete Mathematics\", \"Barney\", \"Fall\"),\n",
        "           (\"CSE 280\", \"Discrete Mathematics\", \"Phillips\", \"Winter\")]\n",
        "\n",
        "\n",
        "# Represent the students table as a list of tuples\n",
        "students = [('Bob', 'CSE 110', 'Spring'),\n",
        "            ('Bob', 'CSE 111', 'Fall'),\n",
        "            ('Sue', 'CSE 111', 'Fall'),\n",
        "            (\"Sue\", 'CSE 180', \"Winter\"),\n",
        "            ('Bill', 'CSE 280', 'Spring'),\n",
        "            (\"Bill\", \"CSE 170\", \"Fall\")]\n",
        "\n",
        "\n",
        "# Find all rows where the class number is CSE 280\n",
        "\n",
        "\n",
        "\n",
        "\n",
        "# Find all classes taught by Phillips\n",
        "\n",
        "\n",
        "\n",
        "# List all class names for classes taught in Spring\n",
        "\n",
        "\n",
        "\n",
        "# List all class numbers and instructors for classes taught in Fall\n",
        "\n",
        "\n",
        "\n",
        "# Find the instructor name for Sue's CSE 111 class\n",
        "\n"
      ]
    },
    {
      "cell_type": "markdown",
      "metadata": {
        "id": "0V9pKI2xo-91"
      },
      "source": [
        "## Sample solution...don't peek until you try it first!"
      ]
    },
    {
      "cell_type": "code",
      "execution_count": null,
      "metadata": {
        "id": "NzZjGXw1o-91"
      },
      "outputs": [],
      "source": [
        "#@title Answer {display-mode: \"form\"}\n",
        "# Find all rows where the class number is CSE 280\n",
        "print([x for x in courses if x[0] == \"CSE 280\"])\n",
        "\n",
        "# Find all classes taught by Phillips\n",
        "print([x for x in courses if x[2] == 'Phillips'])\n",
        "\n",
        "# List all class names for classes taught in Spring\n",
        "print([x[1] for x in courses if x[3] == 'Spring'])\n",
        "\n",
        "# List all class numbers and instructors for classes taught in Fall\n",
        "print([(x[0], x[2]) for x in courses if x[3] == 'Fall'])\n",
        "\n",
        "# Find the instructor name for Sue's CSE 111 class\n",
        "print([course[2] for course in courses for student in students if student[0]\n",
        "       == 'Sue' and student[1] == 'CSE 111' and course[0] == student[1] and course[3] == student[2]])\n"
      ]
    }
  ],
  "metadata": {
    "interpreter": {
      "hash": "1977c1262a5a71e57f8e1e2a9337f4268800bf2d1a595fc1ecb322ccb8b2351d"
    },
    "kernelspec": {
      "display_name": "Python 3.9.0 ('.env': venv)",
      "language": "python",
      "name": "python3"
    },
    "language_info": {
      "codemirror_mode": {
        "name": "ipython",
        "version": 3
      },
      "file_extension": ".py",
      "mimetype": "text/x-python",
      "name": "python",
      "nbconvert_exporter": "python",
      "pygments_lexer": "ipython3",
      "version": "3.9.0"
    },
    "orig_nbformat": 4,
    "colab": {
      "name": "class-activity-w05-relations.ipynb",
      "provenance": []
    }
  },
  "nbformat": 4,
  "nbformat_minor": 0
}